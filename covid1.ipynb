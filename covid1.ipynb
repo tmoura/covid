{
  "nbformat": 4,
  "nbformat_minor": 0,
  "metadata": {
    "colab": {
      "name": "covid1.ipynb",
      "provenance": [],
      "collapsed_sections": [],
      "authorship_tag": "ABX9TyNulWzMcH3nZmy8mYRpuOJ9",
      "include_colab_link": true
    },
    "kernelspec": {
      "name": "python3",
      "display_name": "Python 3"
    }
  },
  "cells": [
    {
      "cell_type": "markdown",
      "metadata": {
        "id": "view-in-github",
        "colab_type": "text"
      },
      "source": [
        "<a href=\"https://colab.research.google.com/github/tmoura/covid/blob/master/covid1.ipynb\" target=\"_parent\"><img src=\"https://colab.research.google.com/assets/colab-badge.svg\" alt=\"Open In Colab\"/></a>"
      ]
    },
    {
      "cell_type": "code",
      "metadata": {
        "id": "EbyBshxkvn0p",
        "colab_type": "code",
        "colab": {}
      },
      "source": [
        "import pandas as pd\n",
        "import numpy as np\n",
        "import matplotlib.pyplot as plt\n",
        "\n",
        "url = \"https://raw.githubusercontent.com/tmoura/covid/master/data.csv\"\n",
        "\n",
        "df = pd.read_csv(url)\n",
        "\n",
        "countries = ['Brazil','USA','Germany','Spain','Italy','United_Kingdom','France','Belgium']\n",
        "cols = ['dateRep','day','month','year','cases','deaths','countriesAndTerritories','popData2018']\n",
        "new_cols = ['country','deaths','population','deathPerMillion','firstReport','lastReport']\n",
        "\n",
        "df = df[cols]\n",
        "df = df.set_index(['countriesAndTerritories'])"
      ],
      "execution_count": 0,
      "outputs": []
    },
    {
      "cell_type": "code",
      "metadata": {
        "id": "fphfm4CiwM28",
        "colab_type": "code",
        "colab": {}
      },
      "source": [
        "# First Death in Brazil: 18/03/2020 until 11/05/2020\n",
        "# 54 days\n",
        "last_date =  pd.to_datetime('11/05/2020',format='%d/%m/%Y')\n",
        "days_passed = last_date - pd.to_datetime('18/03/2020',format='%d/%m/%Y')\n",
        "\n",
        "# Convet all dates to datetime\n",
        "df['dateRep'] = pd.to_datetime(df['dateRep'],format='%d/%m/%Y')\n",
        "\n",
        "new_df = pd.DataFrame(columns=new_cols)\n",
        "\n",
        "for c in df.index.unique():\n",
        "    temp = df.loc[c]\n",
        "\n",
        "    x = temp[temp['deaths'] != 0]\n",
        "\n",
        "    if x.empty == False: # Country with deaths\n",
        "    \n",
        "        first_date = min(x['dateRep'])\n",
        "        \n",
        "        last_date_c = first_date + days_passed\n",
        "        \n",
        "        if last_date_c > last_date: # Days until 11/05/2020\n",
        "            last_date_c = last_date\n",
        "    \n",
        "        temp = temp[(temp['dateRep'] >= first_date) & (temp['dateRep'] <= last_date_c)]\n",
        "        tot_deaths = sum(temp['deaths'])\n",
        "\n",
        "        population =  float(temp['popData2018'].iloc[0]) \n",
        "\n",
        "        deaths_per_million = tot_deaths/population \n",
        "        \n",
        "        new_df = new_df.append({'country':c,'deaths':tot_deaths,'population':population,'deathPerMillion':deaths_per_million,'firstReport':first_date,'lastReport':last_date_c},ignore_index=True)"
      ],
      "execution_count": 0,
      "outputs": []
    },
    {
      "cell_type": "code",
      "metadata": {
        "id": "8VbobFzVwSdg",
        "colab_type": "code",
        "colab": {}
      },
      "source": [
        "new_df = new_df[new_df['population'] >= 1000000]\n",
        "new_df = new_df.sort_values(by='deathPerMillion', ascending=False)\n",
        "\n",
        "new_df['deathPerMillion'] = round(new_df['deathPerMillion'] * 1000000)\n",
        "new_df['deathPerMillion'] = new_df['deathPerMillion'].astype(int)\n",
        "\n",
        "new_df = new_df[:20]\n",
        "\n",
        "new_df = new_df.sort_values(by='deathPerMillion')"
      ],
      "execution_count": 0,
      "outputs": []
    },
    {
      "cell_type": "code",
      "metadata": {
        "id": "URjJ90ygwYFq",
        "colab_type": "code",
        "colab": {}
      },
      "source": [
        "#### Bar Chart\n",
        "\n",
        "plt.figure(figsize=(10,7))\n",
        "\n",
        "xs = new_df['country']\n",
        "ys = new_df['deathPerMillion']\n",
        "\n",
        "plt.barh(xs,ys)\n",
        "plt.title('54 days interval since the first death reported. For Brazil, until May, 11',fontsize=18)\n",
        "plt.xlabel('Deaths per Million',fontsize=16)\n",
        "\n",
        "xs = list(range(0,len(xs)))\n",
        "\n",
        "for x,y in zip(xs,ys):\n",
        "\n",
        "    label = '{:d}'.format(y)\n",
        "\n",
        "    plt.annotate(label, # this is the text\n",
        "                 (y,x), # this is the point to label\n",
        "                 textcoords='offset points', # how to position the text\n",
        "                 xytext=(10,0), # distance from text to points (x,y)\n",
        "                 ha='center') # horizontal alignment can be left, right or center"
      ],
      "execution_count": 0,
      "outputs": []
    }
  ]
}