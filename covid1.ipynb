{
  "nbformat": 4,
  "nbformat_minor": 0,
  "metadata": {
    "colab": {
      "name": "covid1.ipynb",
      "provenance": [],
      "collapsed_sections": [],
      "authorship_tag": "ABX9TyNkRgqQ9jaLG6fGKzWmGYib",
      "include_colab_link": true
    },
    "kernelspec": {
      "name": "python3",
      "display_name": "Python 3"
    }
  },
  "cells": [
    {
      "cell_type": "markdown",
      "metadata": {
        "id": "view-in-github",
        "colab_type": "text"
      },
      "source": [
        "<a href=\"https://colab.research.google.com/github/tmoura/covid/blob/master/covid1.ipynb\" target=\"_parent\"><img src=\"https://colab.research.google.com/assets/colab-badge.svg\" alt=\"Open In Colab\"/></a>"
      ]
    },
    {
      "cell_type": "code",
      "metadata": {
        "id": "EbyBshxkvn0p",
        "colab_type": "code",
        "colab": {}
      },
      "source": [
        "import pandas as pd\n",
        "import numpy as np\n",
        "import matplotlib.pyplot as plt\n",
        "\n",
        "df = pd.read_csv('data.csv')\n",
        "\n",
        "countries = ['Brazil','USA','Germany','Spain','Italy','United_Kingdom','France','Belgium']\n",
        "cols = ['dateRep','day','month','year','cases','deaths','countriesAndTerritories','popData2018']\n",
        "new_cols = ['country','deaths','population','deathPerMillion','firstReport','lastReport']\n",
        "\n",
        "df = df[cols]\n",
        "df = df.set_index(['countriesAndTerritories'])\n",
        "\n"
      ],
      "execution_count": 0,
      "outputs": []
    }
  ]
}